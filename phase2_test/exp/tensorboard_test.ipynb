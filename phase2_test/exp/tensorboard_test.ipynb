{
 "cells": [
  {
   "cell_type": "code",
   "execution_count": 7,
   "metadata": {},
   "outputs": [],
   "source": [
    "# https://blog.csdn.net/sdnuwjw/article/details/107305358\n",
    "\n",
    "# https://pytorch.org/docs/stable/tensorboard.html#:~:text=global_step%20%28int%29%20%E2%80%93%20Global%20step%20value%20to%20record,walltime%20%28time.time%20%28%29%29%20seconds%20after%20epoch%20of%20event\n",
    "\n",
    "# https://github.com/lanpa/tensorboard-pytorch-examples/blob/92c56fbcf44628930a8ae8b896133dff6a1fb857/mnist/main.py#L92\n",
    "\n",
    "import torch\n",
    "import torchvision\n",
    "from torch.utils.tensorboard import SummaryWriter\n",
    "from torchvision import datasets, transforms\n",
    "\n",
    "# Writer will output to ./runs/ directory by default\n",
    "writer = SummaryWriter('./tensorboard/test')\n",
    "\n",
    "# transform = transforms.Compose([transforms.ToTensor(), transforms.Normalize((0.5,), (0.5,))])\n",
    "# trainset = datasets.MNIST('mnist_train', train=True, download=True, transform=transform)\n",
    "# trainloader = torch.utils.data.DataLoader(trainset, batch_size=64, shuffle=True)\n",
    "# model = torchvision.models.resnet50(False)\n",
    "# # Have ResNet model take in grayscale rather than RGB\n",
    "# model.conv1 = torch.nn.Conv2d(1, 64, kernel_size=7, stride=2, padding=3, bias=False)\n",
    "# images, labels = next(iter(trainloader))\n",
    "\n",
    "# grid = torchvision.utils.make_grid(images)\n",
    "# writer.add_image('images', grid, 0)\n",
    "# writer.add_graph(model, images)"
   ]
  },
  {
   "cell_type": "code",
   "execution_count": 8,
   "metadata": {},
   "outputs": [
    {
     "ename": "TypeError",
     "evalue": "'module' object is not callable",
     "output_type": "error",
     "traceback": [
      "\u001b[0;31m---------------------------------------------------------------------------\u001b[0m",
      "\u001b[0;31mTypeError\u001b[0m                                 Traceback (most recent call last)",
      "Cell \u001b[0;32mIn[8], line 7\u001b[0m\n\u001b[1;32m      5\u001b[0m     writer\u001b[39m.\u001b[39madd_scalar(\u001b[39m'\u001b[39m\u001b[39mLoss/train\u001b[39m\u001b[39m'\u001b[39m, np\u001b[39m.\u001b[39mrandom\u001b[39m.\u001b[39mrandom(), step)\n\u001b[1;32m      6\u001b[0m     writer\u001b[39m.\u001b[39madd_scalar(\u001b[39m'\u001b[39m\u001b[39mLoss/test\u001b[39m\u001b[39m'\u001b[39m, np\u001b[39m.\u001b[39mrandom\u001b[39m.\u001b[39mrandom(), step)\n\u001b[0;32m----> 7\u001b[0m     writer\u001b[39m.\u001b[39madd_scalars(\u001b[39m'\u001b[39m\u001b[39mscalars\u001b[39m\u001b[39m'\u001b[39m, {\u001b[39m'\u001b[39m\u001b[39mLoss/train\u001b[39m\u001b[39m'\u001b[39m:np\u001b[39m.\u001b[39;49mrandom(), \u001b[39m\"\u001b[39m\u001b[39mLoss/test\u001b[39m\u001b[39m\"\u001b[39m:np\u001b[39m.\u001b[39mrandom()})\n\u001b[1;32m      8\u001b[0m writer\u001b[39m.\u001b[39madd_scalar(\u001b[39m'\u001b[39m\u001b[39mAccuracy/train\u001b[39m\u001b[39m'\u001b[39m, np\u001b[39m.\u001b[39mrandom\u001b[39m.\u001b[39mrandom(), epoch)\n\u001b[1;32m      9\u001b[0m writer\u001b[39m.\u001b[39madd_scalar(\u001b[39m'\u001b[39m\u001b[39mAccuracy/test\u001b[39m\u001b[39m'\u001b[39m, np\u001b[39m.\u001b[39mrandom\u001b[39m.\u001b[39mrandom(), epoch)\n",
      "\u001b[0;31mTypeError\u001b[0m: 'module' object is not callable"
     ]
    }
   ],
   "source": [
    "import numpy as np\n",
    "for epoch in range(100):\n",
    "    for iter in range(100):\n",
    "        step = epoch * 100 + iter\n",
    "        writer.add_scalar('Loss/train', np.random.random(), step)\n",
    "        writer.add_scalar('Loss/test', np.random.random(), step)\n",
    "        writer.add_scalars('scalars', {'Loss/train':np.random(), \"Loss/test\":np.random()})\n",
    "    writer.add_scalar('Accuracy/train', np.random.random(), epoch)\n",
    "    writer.add_scalar('Accuracy/test', np.random.random(), epoch)"
   ]
  }
 ],
 "metadata": {
  "kernelspec": {
   "display_name": "cv",
   "language": "python",
   "name": "python3"
  },
  "language_info": {
   "codemirror_mode": {
    "name": "ipython",
    "version": 3
   },
   "file_extension": ".py",
   "mimetype": "text/x-python",
   "name": "python",
   "nbconvert_exporter": "python",
   "pygments_lexer": "ipython3",
   "version": "3.11.0"
  },
  "orig_nbformat": 4
 },
 "nbformat": 4,
 "nbformat_minor": 2
}
